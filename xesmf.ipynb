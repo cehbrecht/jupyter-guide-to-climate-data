{
 "cells": [
  {
   "cell_type": "markdown",
   "id": "27202477-422f-487c-874b-d0d887ca5455",
   "metadata": {},
   "source": [
    "# Regridding with XESMF"
   ]
  },
  {
   "cell_type": "code",
   "execution_count": null,
   "id": "707bcdad-8f4d-455a-9891-0ecbe322f98a",
   "metadata": {},
   "outputs": [],
   "source": []
  }
 ],
 "metadata": {
  "kernelspec": {
   "display_name": "Python 3 (ipykernel)",
   "language": "python",
   "name": "python3"
  },
  "language_info": {
   "codemirror_mode": {
    "name": "ipython",
    "version": 3
   },
   "file_extension": ".py",
   "mimetype": "text/x-python",
   "name": "python",
   "nbconvert_exporter": "python",
   "pygments_lexer": "ipython3",
   "version": "3.10.5"
  }
 },
 "nbformat": 4,
 "nbformat_minor": 5
}
