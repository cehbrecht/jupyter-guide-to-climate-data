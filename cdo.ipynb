{
 "cells": [
  {
   "cell_type": "markdown",
   "id": "30bed9d6-53ee-4f3d-b7cd-4a4bbccdf269",
   "metadata": {},
   "source": [
    "# CDO"
   ]
  },
  {
   "cell_type": "code",
   "execution_count": null,
   "id": "89416dad-224a-4b8a-8aed-d4664984c59d",
   "metadata": {},
   "outputs": [],
   "source": [
    "from cdo import Cdo\n",
    "\n",
    "cdo = Cdo()"
   ]
  }
 ],
 "metadata": {
  "kernelspec": {
   "display_name": "Python 3 (ipykernel)",
   "language": "python",
   "name": "python3"
  },
  "language_info": {
   "codemirror_mode": {
    "name": "ipython",
    "version": 3
   },
   "file_extension": ".py",
   "mimetype": "text/x-python",
   "name": "python",
   "nbconvert_exporter": "python",
   "pygments_lexer": "ipython3",
   "version": "3.10.5"
  }
 },
 "nbformat": 4,
 "nbformat_minor": 5
}
