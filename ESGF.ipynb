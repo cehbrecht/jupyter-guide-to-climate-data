{
 "cells": [
  {
   "cell_type": "markdown",
   "id": "36927dfa-34d2-4927-a05c-f686999db0fe",
   "metadata": {},
   "source": [
    "# ESGF"
   ]
  },
  {
   "cell_type": "code",
   "execution_count": null,
   "id": "c1ec1edc-0286-4a01-80ba-4d2aaf4d4454",
   "metadata": {},
   "outputs": [],
   "source": []
  }
 ],
 "metadata": {
  "kernelspec": {
   "display_name": "Python 3 (ipykernel)",
   "language": "python",
   "name": "python3"
  },
  "language_info": {
   "codemirror_mode": {
    "name": "ipython",
    "version": 3
   },
   "file_extension": ".py",
   "mimetype": "text/x-python",
   "name": "python",
   "nbconvert_exporter": "python",
   "pygments_lexer": "ipython3",
   "version": "3.10.5"
  }
 },
 "nbformat": 4,
 "nbformat_minor": 5
}
