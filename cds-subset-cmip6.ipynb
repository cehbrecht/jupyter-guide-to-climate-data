{
 "cells": [
  {
   "cell_type": "markdown",
   "id": "b9d97b17-7a38-40d8-8eb5-4cc44cfd1fa4",
   "metadata": {},
   "source": [
    "# CDS Subset CMIP6"
   ]
  },
  {
   "cell_type": "code",
   "execution_count": 2,
   "id": "1f711b44-5937-4468-b1af-56fd6510ddfe",
   "metadata": {},
   "outputs": [],
   "source": [
    "import xarray as xr"
   ]
  }
 ],
 "metadata": {
  "kernelspec": {
   "display_name": "Python 3 (ipykernel)",
   "language": "python",
   "name": "python3"
  },
  "language_info": {
   "codemirror_mode": {
    "name": "ipython",
    "version": 3
   },
   "file_extension": ".py",
   "mimetype": "text/x-python",
   "name": "python",
   "nbconvert_exporter": "python",
   "pygments_lexer": "ipython3",
   "version": "3.10.5"
  }
 },
 "nbformat": 4,
 "nbformat_minor": 5
}
