{
 "cells": [
  {
   "cell_type": "markdown",
   "metadata": {},
   "source": [
    "# cdo: run subset operations (command line)"
   ]
  },
  {
   "cell_type": "code",
   "execution_count": null,
   "metadata": {},
   "outputs": [],
   "source": [
    "# Using CDO within a conda environment / custom kernel requires to manually update the PATH variable,\n",
    "#  if using the default kernel (Python3) this is not necessary\n",
    "import conda, os\n",
    "conda_file_dir = conda.__file__\n",
    "conda_dir = conda_file_dir.split('lib')[0]\n",
    "os.environ['PATH'] += os.pathsep + os.path.join(conda_dir, 'bin')"
   ]
  },
  {
   "cell_type": "markdown",
   "metadata": {},
   "source": [
    "**sel operators**"
   ]
  },
  {
   "cell_type": "code",
   "execution_count": null,
   "metadata": {},
   "outputs": [],
   "source": [
    "! cdo --help sel"
   ]
  },
  {
   "cell_type": "code",
   "execution_count": null,
   "metadata": {},
   "outputs": [],
   "source": [
    "! cdo --help seldate"
   ]
  },
  {
   "cell_type": "markdown",
   "metadata": {},
   "source": [
    "**select by date**"
   ]
  },
  {
   "cell_type": "code",
   "execution_count": null,
   "metadata": {},
   "outputs": [],
   "source": [
    "! ls /pool/data/CMIP6/data/ScenarioMIP/INM/INM-CM5-0/ssp245/r1i1p1f1/day/tas/gr1/v20190619/"
   ]
  },
  {
   "cell_type": "code",
   "execution_count": null,
   "metadata": {},
   "outputs": [],
   "source": [
    "inputfile = \"/pool/data/CMIP6/data/ScenarioMIP/INM/INM-CM5-0/ssp245/r1i1p1f1/day/tas/gr1/v20190619/tas_day_INM-CM5-0_ssp245_r1i1p1f1_gr1_20150101-20641231.nc\"\n",
    "outputfile = \"tas_day_INM-CM5-0_ssp245_r1i1p1f1_gr1_20160101-20161230.nc\""
   ]
  },
  {
   "cell_type": "code",
   "execution_count": null,
   "metadata": {},
   "outputs": [],
   "source": [
    "! cdo -O seldate,20160101,20161230 {inputfile} {outputfile}"
   ]
  },
  {
   "cell_type": "markdown",
   "metadata": {},
   "source": [
    "**Display file information**"
   ]
  },
  {
   "cell_type": "code",
   "execution_count": null,
   "metadata": {
    "tags": []
   },
   "outputs": [],
   "source": [
    "! ncdump -h {outputfile}"
   ]
  },
  {
   "cell_type": "markdown",
   "metadata": {},
   "source": [
    "**Quickplot using xarray and hvplot**"
   ]
  },
  {
   "cell_type": "code",
   "execution_count": null,
   "metadata": {},
   "outputs": [],
   "source": [
    "import hvplot.xarray, xarray as xr\n",
    "\n",
    "ds = xr.open_dataset(outputfile)\n",
    "ds"
   ]
  },
  {
   "cell_type": "code",
   "execution_count": null,
   "metadata": {},
   "outputs": [],
   "source": [
    "# Plot a single timestep using xarray\n",
    "#ds.tas.isel(time=0).plot()\n",
    "\n",
    "# Dynamic plot of the entire timeseries using hvplot\n",
    "ds.tas.hvplot.quadmesh(width=600)"
   ]
  }
 ],
 "metadata": {
  "kernelspec": {
   "display_name": "summerschool_2022",
   "language": "python",
   "name": "summerschool_2022"
  },
  "language_info": {
   "codemirror_mode": {
    "name": "ipython",
    "version": 3
   },
   "file_extension": ".py",
   "mimetype": "text/x-python",
   "name": "python",
   "nbconvert_exporter": "python",
   "pygments_lexer": "ipython3",
   "version": "3.10.5"
  }
 },
 "nbformat": 4,
 "nbformat_minor": 4
}
