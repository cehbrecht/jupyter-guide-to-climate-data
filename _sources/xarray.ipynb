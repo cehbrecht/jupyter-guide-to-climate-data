{
 "cells": [
  {
   "cell_type": "markdown",
   "id": "cd8cbf1b-d375-43b3-8555-f4a8381b6577",
   "metadata": {},
   "source": [
    "# xarray\n",
    "\n",
    "https://docs.xarray.dev/en/stable/"
   ]
  },
  {
   "cell_type": "code",
   "execution_count": null,
   "id": "bebad318-7f35-4425-bc97-eb629f65b67b",
   "metadata": {},
   "outputs": [],
   "source": [
    "import xarray as xr"
   ]
  },
  {
   "cell_type": "code",
   "execution_count": null,
   "id": "133b3c38-89c2-4797-87cc-fdea73e3e56f",
   "metadata": {},
   "outputs": [],
   "source": []
  }
 ],
 "metadata": {
  "kernelspec": {
   "display_name": "summerschool_2022",
   "language": "python",
   "name": "summerschool_2022"
  },
  "language_info": {
   "codemirror_mode": {
    "name": "ipython",
    "version": 3
   },
   "file_extension": ".py",
   "mimetype": "text/x-python",
   "name": "python",
   "nbconvert_exporter": "python",
   "pygments_lexer": "ipython3",
   "version": "3.10.5"
  }
 },
 "nbformat": 4,
 "nbformat_minor": 5
}
