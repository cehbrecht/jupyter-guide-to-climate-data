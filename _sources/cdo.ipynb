{
 "cells": [
  {
   "cell_type": "markdown",
   "id": "30bed9d6-53ee-4f3d-b7cd-4a4bbccdf269",
   "metadata": {},
   "source": [
    "# CDO"
   ]
  },
  {
   "cell_type": "code",
   "execution_count": null,
   "id": "89416dad-224a-4b8a-8aed-d4664984c59d",
   "metadata": {},
   "outputs": [],
   "source": [
    "# Using cdo within a conda environment / custom kernel requires to manually update the PATH variable,\n",
    "#  if using the default kernel (Python3) this is not necessary\n",
    "import os\n",
    "ncdumpexe = ! which ncdump\n",
    "cdopath = os.path.dirname(ncdumpexe[0])\n",
    "#cdopath = \"/work/bm0021/conda-envs-public/guidetoclimatedata/bin/\"\n",
    "if os.path.exists(cdopath):\n",
    "  os.environ[\"PATH\"] += os.pathsep + cdopath\n",
    "\n",
    "# Check if it worked\n",
    "! which cdo"
   ]
  },
  {
   "cell_type": "code",
   "execution_count": null,
   "id": "9c15c37d-a6f3-46e7-95a9-1f6ba0044407",
   "metadata": {},
   "outputs": [],
   "source": [
    "# Import and initialize\n",
    "from cdo import Cdo\n",
    "cdo = Cdo()\n",
    "\n",
    "# Enable debugging\n",
    "#cdo.debug = True"
   ]
  },
  {
   "cell_type": "code",
   "execution_count": null,
   "id": "b0989a50-0598-4250-b984-3d1e6941b5b7",
   "metadata": {},
   "outputs": [],
   "source": [
    "# Specify infile\n",
    "infile_path = \"/work/ik1017/CMIP6/data/CMIP6/CMIP/MPI-M/MPI-ESM1-2-HR/historical/r1i1p1f1/Omon/tos/gn/v20190710/\"\\\n",
    "              \"tos_Omon_MPI-ESM1-2-HR_historical_r1i1p1f1_gn_185001-185412.nc\""
   ]
  },
  {
   "cell_type": "markdown",
   "id": "a0f74bd4-b02d-472c-83d5-85ab8991c278",
   "metadata": {},
   "source": [
    "Per default, all cdo calls are in silent mode (command line option `-s/--silent`)\n",
    "to counter this, specify `--verbose` as an option (`verbose=True` does not work, bug?)"
   ]
  },
  {
   "cell_type": "code",
   "execution_count": null,
   "id": "7c993f07-14c3-44ae-9ddd-0079d3870efc",
   "metadata": {},
   "outputs": [],
   "source": [
    "cdo.sinfoc(input=str(path_tos), options='--verbose')"
   ]
  },
  {
   "cell_type": "markdown",
   "id": "47d49f45-94ac-4e1b-8c7d-69e7264251d8",
   "metadata": {},
   "source": [
    "The same command in the command line"
   ]
  },
  {
   "cell_type": "code",
   "execution_count": null,
   "id": "4cdc2210-10ad-467f-a7a1-a2188d2fd929",
   "metadata": {},
   "outputs": [],
   "source": [
    "! cdo -v sinfo {infile_path}"
   ]
  },
  {
   "cell_type": "code",
   "execution_count": null,
   "id": "06f10b76-be94-479d-bcc2-5479b9bb112d",
   "metadata": {},
   "outputs": [],
   "source": []
  }
 ],
 "metadata": {
  "kernelspec": {
   "display_name": "Python 3 (ipykernel)",
   "language": "python",
   "name": "python3"
  },
  "language_info": {
   "codemirror_mode": {
    "name": "ipython",
    "version": 3
   },
   "file_extension": ".py",
   "mimetype": "text/x-python",
   "name": "python",
   "nbconvert_exporter": "python",
   "pygments_lexer": "ipython3",
   "version": "3.10.5"
  }
 },
 "nbformat": 4,
 "nbformat_minor": 5
}
