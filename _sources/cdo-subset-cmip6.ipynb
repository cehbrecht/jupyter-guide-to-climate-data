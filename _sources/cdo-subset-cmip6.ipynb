{
 "cells": [
  {
   "cell_type": "markdown",
   "metadata": {
    "tags": []
   },
   "source": [
    "# cdo: run subset operations (command line)"
   ]
  },
  {
   "cell_type": "markdown",
   "metadata": {},
   "source": [
    "**sel operators**"
   ]
  },
  {
   "cell_type": "code",
   "execution_count": null,
   "metadata": {},
   "outputs": [],
   "source": [
    "! cdo --help sellonlatbox"
   ]
  },
  {
   "cell_type": "code",
   "execution_count": null,
   "metadata": {},
   "outputs": [],
   "source": [
    "! cdo --help seldate"
   ]
  },
  {
   "cell_type": "markdown",
   "metadata": {},
   "source": [
    "**select time range by date, and lon-lat box**"
   ]
  },
  {
   "cell_type": "code",
   "execution_count": null,
   "metadata": {},
   "outputs": [],
   "source": [
    "# List files\n",
    "! ls /pool/data/CMIP6/data/CMIP/MPI-M/MPI-ESM1-2-HR/historical/r1i1p1f1/Amon/tas/gn/v20190710/"
   ]
  },
  {
   "cell_type": "code",
   "execution_count": null,
   "metadata": {},
   "outputs": [],
   "source": [
    "# Specify input and output\n",
    "inputfile = \"/pool/data/CMIP6/data/CMIP/MPI-M/MPI-ESM1-2-HR/historical/r1i1p1f1/Amon/tas/gn/v20190710/\"\n",
    "inputfile += \"tas_Amon_MPI-ESM1-2-HR_historical_r1i1p1f1_gn_200001-200412.nc\"\n",
    "outputfile = \"tas_Amon_MPI-ESM1-2-HR_historical_r1i1p1f1_gn_200001-200001.nc\""
   ]
  },
  {
   "cell_type": "code",
   "execution_count": null,
   "metadata": {},
   "outputs": [],
   "source": [
    "# Call cdo\n",
    "! cdo -O seldate,20000101,20000131 -sellonlatbox,-40,70,-40,70 {inputfile} {outputfile}"
   ]
  },
  {
   "cell_type": "markdown",
   "metadata": {},
   "source": [
    "**Display file information**"
   ]
  },
  {
   "cell_type": "code",
   "execution_count": null,
   "metadata": {
    "tags": []
   },
   "outputs": [],
   "source": [
    "! ncdump -h {outputfile}"
   ]
  },
  {
   "cell_type": "markdown",
   "metadata": {},
   "source": [
    "**Quickplot using xarray and hvplot**"
   ]
  },
  {
   "cell_type": "code",
   "execution_count": null,
   "metadata": {},
   "outputs": [],
   "source": [
    "import hvplot.xarray, xarray as xr\n",
    "\n",
    "ds = xr.open_dataset(outputfile)\n",
    "ds"
   ]
  },
  {
   "cell_type": "code",
   "execution_count": null,
   "metadata": {},
   "outputs": [],
   "source": [
    "# Plot a single timestep using xarray\n",
    "ds.tas.isel(time=0).plot()\n",
    "\n",
    "# Dynamic plot of the entire timeseries using hvplot\n",
    "#ds.tas.hvplot.quadmesh(width=600)"
   ]
  }
 ],
 "metadata": {
  "kernelspec": {
   "display_name": "summerschool_2022",
   "language": "python",
   "name": "summerschool_2022"
  },
  "language_info": {
   "codemirror_mode": {
    "name": "ipython",
    "version": 3
   },
   "file_extension": ".py",
   "mimetype": "text/x-python",
   "name": "python",
   "nbconvert_exporter": "python",
   "pygments_lexer": "ipython3",
   "version": "3.10.6"
  }
 },
 "nbformat": 4,
 "nbformat_minor": 4
}
