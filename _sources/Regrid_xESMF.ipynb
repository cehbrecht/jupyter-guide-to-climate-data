{
 "cells": [
  {
   "cell_type": "markdown",
   "metadata": {
    "tags": []
   },
   "source": [
    "# Regridding with [xESMF](https://github.com/pangeo-data/xESMF)"
   ]
  },
  {
   "cell_type": "code",
   "execution_count": null,
   "metadata": {},
   "outputs": [],
   "source": [
    "import os\n",
    "os.environ['PROJ_LIB'] = \"/work/bm0021/conda-envs-public/clisops/share/proj\"\n",
    "\n",
    "%matplotlib inline\n",
    "import matplotlib.pyplot as plt\n",
    "import cartopy.crs as ccrs\n",
    "import xarray as xr\n",
    "import xesmf as xe\n",
    "from pathlib import Path\n",
    "from clisops.ops.subset import subset"
   ]
  },
  {
   "cell_type": "markdown",
   "metadata": {
    "tags": []
   },
   "source": [
    "## Prepare data\n"
   ]
  },
  {
   "cell_type": "markdown",
   "metadata": {
    "tags": []
   },
   "source": [
    "### Input data\n"
   ]
  },
  {
   "cell_type": "markdown",
   "metadata": {},
   "source": [
    "We select two datasets:\n",
    "\n",
    "*  near surface air temperature (2D) on a rectilinear grid\n",
    "*  sea surface temperature (2D) on a curvilinear grid\n",
    "\n",
    "Before creating the remapping weights, we subselect the region around Europe. For that we will use clisops, \n",
    "since xarray cannot subset variables with 2D coordinate variables by their value. Also xarray cannot automatically wrap\n",
    "longitude axis when subsetting across the 0-meridian (or in general: across the easter and western bounds of the grid)."
   ]
  },
  {
   "cell_type": "code",
   "execution_count": null,
   "metadata": {},
   "outputs": [],
   "source": [
    "cmip_root = \"/work/ik1017/CMIP6/data\"\n",
    "\n",
    "# near surface air temperature\n",
    "path_tas = Path(cmip_root,  \"CMIP6/CMIP/MPI-M/MPI-ESM1-2-HR/historical/r1i1p1f1/Amon/tas/gn/v20190710/\")\n",
    "path_tas = Path(path_tas, \"tas_Amon_MPI-ESM1-2-HR_historical_r1i1p1f1_gn_185001-185412.nc\")\n",
    "ds_tas_global = xr.open_dataset(path_tas)\n",
    "\n",
    "# ocean surface temperature\n",
    "path_tos = Path(cmip_root,  \"CMIP6/CMIP/MPI-M/MPI-ESM1-2-HR/historical/r1i1p1f1/Omon/tos/gn/v20190710/\")\n",
    "path_tos = Path(path_tos, \"tos_Omon_MPI-ESM1-2-HR_historical_r1i1p1f1_gn_185001-185412.nc\")\n",
    "ds_tos_global = xr.open_dataset(path_tos)"
   ]
  },
  {
   "cell_type": "code",
   "execution_count": null,
   "metadata": {},
   "outputs": [],
   "source": [
    "# Subset near surface air temperature\n",
    "# area is specified as a tuple (lon_lower, lat_lower, lon_upper, lat_upper)\n",
    "ds_tas = subset(ds=ds_tas_global, area=(-30, 20, 65, 75), output_type=\"xarray\")[0]\n",
    "\n",
    "# Plot\n",
    "ds_tas.tas.isel(time=0).plot.pcolormesh(x=\"lon\", y=\"lat\", shading=\"auto\", cmap=\"RdBu_r\");"
   ]
  },
  {
   "cell_type": "code",
   "execution_count": null,
   "metadata": {},
   "outputs": [],
   "source": [
    "# Subset sea surface temperature\n",
    "# area is specified as a tuple (lon_lower, lat_lower, lon_upper, lat_upper)\n",
    "ds_tos = subset(ds=ds_tos_global, area=(-30, 20, 65, 75), output_type=\"xarray\")[0]\n",
    "\n",
    "# Plot\n",
    "ds_tos[\"tos\"].isel(time=0).plot.pcolormesh(x=\"longitude\", y=\"latitude\", shading=\"auto\",\n",
    "                                           cmap=\"RdBu_r\", vmin = -1, vmax=25, \n",
    "                                           xlim=(-25,60), ylim=(35,75));"
   ]
  },
  {
   "cell_type": "markdown",
   "metadata": {},
   "source": [
    "### Target grid\n",
    "\n",
    "We use xESMF to create a regular Grid with `1.0°x1.0°` resolution.\n",
    "A little smaller domain is selected for the output, \n",
    "to avoid problems like missing values at the domain bounds.\n",
    "\n"
   ]
  },
  {
   "cell_type": "code",
   "execution_count": null,
   "metadata": {},
   "outputs": [],
   "source": [
    "# Create a regional regular latitude longitude grid of 1 degree resolution\n",
    "#  xe.util.cf_grid_2d(lon0_b, lon1_b, d_lon, lat0_b, lat1_b, d_lat)\n",
    "ds_out = xe.util.cf_grid_2d(-25, 60, 1, 35, 70, 1)\n",
    "\n",
    "# alternatively create a global grid:\n",
    "#ds_out = xe.util.grid_global(d_lat=1, d_lon=1, cf=True)\n",
    "\n",
    "# altneratively use clisops:\n",
    "#from clisops.core.regrid import Grid\n",
    "#ds_out = Grid(grid_instructor=(-25,60,1,35,70,1)).ds\n",
    "#ds_out = Grid(grid_instructor=1)\n",
    "#ds_out = Grid(grid_id=\"1deg\").ds\n",
    "\n",
    "# display ds_out\n",
    "ds_out"
   ]
  },
  {
   "cell_type": "markdown",
   "metadata": {},
   "source": [
    "## Perform regridding"
   ]
  },
  {
   "cell_type": "markdown",
   "metadata": {},
   "source": [
    "We create the regridding weights by calling `xe.Regridder(grid_in, grid_out, method)`. A `grid` is just an\n",
    "xarray `DataSet` containing `latitude` and `longitude` coordinates.\n",
    "\n",
    "xESMF supports multiple remapping methods, but [which method should be applied for the problem](https://climatedataguide.ucar.edu/climate-data-tools-and-analysis/regridding-overview)?\n",
    "\n",
    "<table style=\"align:left !important; margin-left:0 !important;\">\n",
    "<thead>\n",
    "  <tr>\n",
    "    <th >Method</th>\n",
    "    <th >Description</th>\n",
    "    <th >Application</th>\n",
    "  </tr>\n",
    "</thead>\n",
    "<tbody>\n",
    "  <tr>\n",
    "    <td>bilinear</td>\n",
    "    <td><ul><li>linear interpolation</li><li>monotonic (i.e. creates no new maxima/minima)</li></ul></td>\n",
    "    <td>smoothly varying variables (eg. temperature)</td>\n",
    "  </tr>\n",
    "  <tr>\n",
    "    <td>conservative</td>\n",
    "    <td><ul><li>preserving area average</li><li>maintaining eg. energy budgets</li><li>monotonic</li></ul></td>\n",
    "    <td><ul><li>discontinuous variables / fluxes</li><li>upscaling (remapping to coarser grid)</li></ul> </td>\n",
    "  </tr>\n",
    "  <tr>\n",
    "    <td>nearest neighbour</td>\n",
    "    <td>monotonic</td>\n",
    "    <td>categorical data (eg. binary masks, land usage type)</td>\n",
    "  </tr>\n",
    "  <tr>\n",
    "    <td>patch</td>\n",
    "      <td><ul><li>least square fit of surrounding surface patches</li><li>preserving derivatives<li</td>\n",
    "    <td>eg. wind speed</td>\n",
    "  </tr>\n",
    "</tbody>\n",
    "</table>\n"
   ]
  },
  {
   "cell_type": "code",
   "execution_count": null,
   "metadata": {},
   "outputs": [],
   "source": [
    "# Calculation of weights, using xesmf.Regridder\n",
    "method_list = [\"bilinear\",\n",
    "               \"conservative\",\n",
    "               \"conservative_normed\",\n",
    "               \"patch\",\n",
    "               \"nearest_s2d\",\n",
    "               \"nearest_d2s\"]\n",
    "\n",
    "regridder = {}\n",
    "for method in method_list:\n",
    "    regridder[method+\"_tas\"] = xe.Regridder(ds_tas, ds_out, method)\n",
    "    regridder[method+\"_tos\"] = xe.Regridder(ds_tos, ds_out, method)"
   ]
  },
  {
   "cell_type": "code",
   "execution_count": null,
   "metadata": {},
   "outputs": [],
   "source": [
    "# Applying the weights to remap the data\n",
    "for method in method_list:\n",
    "    ds_out[method+\"_tas\"] = regridder[method+\"_tas\"](ds_tas.tas.isel(time=0))\n",
    "    ds_out[method+\"_tos\"] = regridder[method+\"_tos\"](ds_tos.tos.isel(time=0))"
   ]
  },
  {
   "cell_type": "markdown",
   "metadata": {},
   "source": [
    "## Plot the results"
   ]
  },
  {
   "cell_type": "markdown",
   "metadata": {},
   "source": [
    "The regridding result is consistent with the original data, with a much finer\n",
    "resolution:\n"
   ]
  },
  {
   "cell_type": "code",
   "execution_count": null,
   "metadata": {},
   "outputs": [],
   "source": [
    "fig, axes = plt.subplots(3, 2, figsize=[16, 16])\n",
    "\n",
    "for i, method in enumerate(method_list):\n",
    "    ax = axes.flatten()[i]\n",
    "    ds_out[method+\"_tas\"].plot.pcolormesh(ax=ax, shading=\"auto\", cmap=\"RdBu_r\")\n",
    "    ax.set_title(method, fontsize=15)\n",
    "\n",
    "plt.tight_layout()"
   ]
  },
  {
   "cell_type": "code",
   "execution_count": null,
   "metadata": {},
   "outputs": [],
   "source": [
    "fig, axes = plt.subplots(3, 2, figsize=[16, 16])\n",
    "\n",
    "for i, method in enumerate(method_list):\n",
    "    ax = axes.flatten()[i]\n",
    "    ds_out[method+\"_tos\"].plot.pcolormesh(ax=ax, shading=\"auto\", cmap=\"RdBu_r\")\n",
    "    ax.set_title(method, fontsize=15)\n",
    "\n",
    "plt.tight_layout()"
   ]
  },
  {
   "cell_type": "markdown",
   "metadata": {},
   "source": [
    "*  The missing values of the land cells are contaminating the result, since a target cell will get a missing value \n",
    "as long as only a single contributing cell of the source grid has a missing value.\n",
    "*  `nearest_s2d` maps each cell of the target grid to one cell of the source grid.\n",
    "*  `nearest_d2s` maps each cell of the source grid to a cell of the target grid. In case of multiple matches, which is usually the case for upscaling, the values will be added up."
   ]
  },
  {
   "cell_type": "markdown",
   "metadata": {},
   "source": [
    "## Masking\n",
    "\n",
    "### Use an input mask to obtain a better result"
   ]
  },
  {
   "cell_type": "code",
   "execution_count": null,
   "metadata": {},
   "outputs": [],
   "source": [
    "# Create the mask - it has to be labeled \"mask\"\n",
    "import numpy as np\n",
    "ds_tos[\"mask\"] = xr.where(~np.isnan(ds_tos[\"tos\"].isel(time=0)), 1, 0)\n",
    "ds_tos[\"mask\"].plot.pcolormesh(x=\"longitude\", y=\"latitude\", shading=\"auto\",\n",
    "                               cmap=\"binary\", xlim=(-25,60), ylim=(35,75));"
   ]
  },
  {
   "cell_type": "code",
   "execution_count": null,
   "metadata": {},
   "outputs": [],
   "source": [
    "# Create the weights\n",
    "for method in method_list:\n",
    "    regridder[method+\"_tos_mask\"] = xe.Regridder(ds_tos, ds_out, method)"
   ]
  },
  {
   "cell_type": "code",
   "execution_count": null,
   "metadata": {},
   "outputs": [],
   "source": [
    "# Regrid the data\n",
    "for method in method_list:\n",
    "    ds_out[method+\"_tos_mask\"] = regridder[method+\"_tos_mask\"](ds_tos.tos.isel(time=0))"
   ]
  },
  {
   "cell_type": "code",
   "execution_count": null,
   "metadata": {},
   "outputs": [],
   "source": [
    "# Plot\n",
    "fig, axes = plt.subplots(3, 2, figsize=[16, 16])\n",
    "\n",
    "for i, method in enumerate(method_list):\n",
    "    ax = axes.flatten()[i]\n",
    "    ds_out[method+\"_tos_mask\"].plot.pcolormesh(ax=ax, shading=\"auto\", cmap=\"RdBu_r\")\n",
    "    ax.set_title(method, fontsize=15)\n",
    "\n",
    "plt.tight_layout()"
   ]
  },
  {
   "cell_type": "markdown",
   "metadata": {},
   "source": [
    "*  conservative: the values near the coastline are too low since masked cells contribute to the area average with value 0\n",
    "*  conservative_normed: here a renormalization is performed for these cells\n",
    "*  nearest_s2d: cells on land have the same value as the closest unmasked source grid cell"
   ]
  },
  {
   "cell_type": "markdown",
   "metadata": {},
   "source": [
    "### Instead of an input mask, apply adaptive masking\n",
    "\n",
    "The `skipna` parameter (boolean, default: False) will cause cells with missing values to be ignored.\n",
    "Additionally, a renormalization is conducted. Adaptive masking has no effect for the nearest neighbour remapping methods.\n",
    "\n",
    "The parameter `na_thres` (numeric, default: 1.0) \n",
    "allows to specify a maximum ratio of occuring missing values, up to which to apply this *adaptive masking* technique.\n",
    "If set to 1.0, no target grid cell that has any contribution of a souce grid cell will be set to missing_value. In rare cases this can lead to weird results for single cells with the bilinear and patch remapping methods.\n",
    "If set to 0.0, the target grid cell will be set to missing_value if any contributing cell of the source grid is missing. \n",
    "\n",
    "A big advantage over the input mask approach is, that weights can be reused for input data on the same grid if it is masked differently\n",
    "(eg. 3D ocean data with the land sea mask varying with depth, 3D atmospheric data with orography varying with height, time dependent masks, ...)."
   ]
  },
  {
   "cell_type": "code",
   "execution_count": null,
   "metadata": {},
   "outputs": [],
   "source": [
    "# We reuse the weights created above and store the remapped datasets in the same output dataset\n",
    "for method in method_list:\n",
    "    ds_out[method+\"_tos_skipna\"] = regridder[method+\"_tos\"](ds_tos.tos.isel(time=0), skipna=True, na_thres=0.3)"
   ]
  },
  {
   "cell_type": "code",
   "execution_count": null,
   "metadata": {},
   "outputs": [],
   "source": [
    "fig, axes = plt.subplots(3, 2, figsize=[16, 16])\n",
    "\n",
    "for i, method in enumerate(method_list):\n",
    "    ax = axes.flatten()[i]\n",
    "    ds_out[method+\"_tos_skipna\"].plot.pcolormesh(ax=ax, shading=\"auto\", cmap=\"RdBu_r\")\n",
    "    ax.set_title(method, fontsize=15)\n",
    "\n",
    "plt.tight_layout()"
   ]
  },
  {
   "cell_type": "markdown",
   "metadata": {},
   "source": [
    "The adaptive masking technique is best applied for the conservative and patch remapping methods, \n",
    "especially when upscaling (remapping to a coarser grid). \n",
    "\n",
    "If `skipna=True, na_thres=1.0` are set, the conservative method yields the same result as the conservative_normed method \n",
    "with a defined input mask."
   ]
  },
  {
   "cell_type": "markdown",
   "metadata": {},
   "source": [
    "## Regridding of the global dataset\n",
    "\n",
    "If you tried to remap the global sea surface temperature dataset you will have noticed that the weights generation\n",
    "is not possible for most of the methods. This is because the dataset still contains the grid halo, \n",
    "which are duplicated rows or columns at the edge of the grid, which are necessary during the model simulation, but not so much\n",
    "in the final data product. On top of that, many grid halos have collapsing bounds (i.e. collapsing on a line or point) and this \n",
    "causes (x)ESMF to crash when calculating the weights.\n",
    "\n",
    "The CDO operator `verifygrid` is very useful in detecting duplicated and collapsing cells.\n",
    "\n",
    "The xESMF Regridder features the parameter `ignore_degenerate` to deal with collapsing cells, but when using the patch or conservative methods,\n",
    "the halo would still distort the results, since the halo cells are added up. \n",
    "One can use xarray to remove the halo or the input mask option of xESMF to mask the halo (see eg. [this notebook](https://nbviewer.jupyter.org/github/roocs/regrid-prototype/blob/main/docs/notebooks/xESMF_Behaviour_Halo.ipynb) )."
   ]
  },
  {
   "cell_type": "code",
   "execution_count": null,
   "metadata": {},
   "outputs": [],
   "source": [
    "# Display the dataset\n",
    "ds_tos_global"
   ]
  },
  {
   "cell_type": "code",
   "execution_count": null,
   "metadata": {},
   "outputs": [],
   "source": [
    "# Let us take a look at the grid, the halo can be spotted:\n",
    "plt.figure(figsize=(10, 6))\n",
    "plt.scatter(x=ds_tos_global[\"longitude\"], y=ds_tos_global[\"latitude\"], s=0.001);"
   ]
  },
  {
   "cell_type": "code",
   "execution_count": null,
   "metadata": {},
   "outputs": [],
   "source": [
    "# Use cdo verifygrid to confirm duplicated and/or collapsing cells\n",
    "! /work/bm0021/conda-envs-public/guidetoclimatedata/bin/cdo verifygrid {path_tos}"
   ]
  },
  {
   "cell_type": "code",
   "execution_count": null,
   "metadata": {},
   "outputs": [],
   "source": [
    "# The halo of the MPIOM GR15 grid (MPI-ESM1-2-LR) consists of the first and last column, \n",
    "#  the halo of the MPIOM TP04 grid (MPI-ESM1-2-HR) consists of the first and last column as well as the first two rows\n",
    "#  (in case it is not obvious as in the latter case, one would have to ask the modelers how their halo is defined ...)\n",
    "ds_tos_nohalo = ds_tos_global.isel(i=slice(1,801), j=slice(2,405))\n",
    "ds_tos_nohalo"
   ]
  },
  {
   "cell_type": "code",
   "execution_count": null,
   "metadata": {},
   "outputs": [],
   "source": [
    "# Use cdo selindexbox,lon_idx1,lon_idx2,lat_idx1,lat_idx2 (indexing starts at 1!)\n",
    "#  to remove halo and verifygrid to confirm duplicated and/or collapsing cells have been removed\n",
    "! /work/bm0021/conda-envs-public/guidetoclimatedata/bin/cdo verifygrid -selindexbox,2,801,3,404 {path_tos}"
   ]
  },
  {
   "cell_type": "markdown",
   "metadata": {},
   "source": [
    "Now one can remap the global dataset:"
   ]
  },
  {
   "cell_type": "code",
   "execution_count": null,
   "metadata": {},
   "outputs": [],
   "source": [
    "# Create global target grid\n",
    "ds_out_global = xe.util.grid_global(d_lat=1, d_lon=1, cf=True)"
   ]
  },
  {
   "cell_type": "code",
   "execution_count": null,
   "metadata": {},
   "outputs": [],
   "source": [
    "# Create the remapping weights (taking a while to calculate)\n",
    "#  for global datasets, we need to set the periodic parameter, or we might get missing values\n",
    "#  contaminating the result where the east and west edges of the grid meet, or at the poles.\n",
    "for method in method_list:\n",
    "    regridder[method+\"_tos_global\"] = xe.Regridder(ds_tos_nohalo, ds_out_global, method, periodic=True)\n",
    "    #In case one wants to see the halo effects:\n",
    "    #regridder[method+\"_tos_global\"] = xe.Regridder(ds_tos_global, ds_out_global, method, periodic=True, ignore_degenerate=True)"
   ]
  },
  {
   "cell_type": "code",
   "execution_count": null,
   "metadata": {},
   "outputs": [],
   "source": [
    "# Conduct the remapping\n",
    "for method in method_list:\n",
    "    ds_out_global[method+\"_tos_global_skipna\"] = regridder[method+\"_tos_global\"](ds_tos_nohalo.tos.isel(time=0), skipna=True, na_thres=0.3)\n",
    "    # In case one wants to see the halo effects (the proper weights must have been generated in the cell above):\n",
    "    #ds_out_global[method+\"_tos_global_skipna\"] = regridder[method+\"_tos_global\"](ds_tos_global.tos.isel(time=0), skipna=True, na_thres=0.3)"
   ]
  },
  {
   "cell_type": "code",
   "execution_count": null,
   "metadata": {},
   "outputs": [],
   "source": [
    "# Plot\n",
    "fig, axes = plt.subplots(3, 2, figsize=[16, 12])\n",
    "\n",
    "for i, method in enumerate(method_list):\n",
    "    ax = axes.flatten()[i]\n",
    "    ds_out_global[method+\"_tos_global_skipna\"].plot.pcolormesh(ax=ax, shading=\"auto\", cmap=\"RdBu_r\")\n",
    "    ax.set_title(method, fontsize=15)\n",
    "\n",
    "plt.tight_layout()"
   ]
  },
  {
   "cell_type": "markdown",
   "metadata": {},
   "source": [
    "## More Examples\n",
    "\n",
    "For more examples see:\n",
    "\n",
    "*  the extensive [xESMF documentation](https://xesmf.readthedocs.io/en/latest/)\n",
    "*  this selection of jupyter notebooks:\n",
    "   *  [Remapping climate data with xESMF](https://nbviewer.jupyter.org/github/Ouranosinc/pavics-sdi/blob/master/docs/source/notebooks/regridding.ipynb) provided by [Ouranos](https://www.ouranos.ca/en/)\n",
    "   *  [Remapping regional datasets](https://nbviewer.org/github/roocs/regrid-prototype/blob/main/docs/notebooks/xESMF_curvilinear_nearest_mask_unmapped.ipynb)\n",
    "   *  [Remapping from unstructured grids](https://nbviewer.org/github/roocs/regrid-prototype/blob/main/docs/notebooks/xESMF_unstructured_locstream_ref.ipynb)\n",
    "   *  [Regridding with clisops powered by xESMF](https://nbviewer.org/github/roocs/clisops/blob/regrid-main/notebooks/regrid.ipynb)\n",
    "   *  [Pitfall grid halos when remapping](https://nbviewer.jupyter.org/github/roocs/regrid-prototype/blob/main/docs/notebooks/xESMF_Behaviour_Halo.ipynb)"
   ]
  },
  {
   "cell_type": "code",
   "execution_count": null,
   "metadata": {},
   "outputs": [],
   "source": []
  }
 ],
 "metadata": {
  "kernelspec": {
   "display_name": "Python 3 (ipykernel)",
   "language": "python",
   "name": "python3"
  },
  "language_info": {
   "codemirror_mode": {
    "name": "ipython",
    "version": 3
   },
   "file_extension": ".py",
   "mimetype": "text/x-python",
   "name": "python",
   "nbconvert_exporter": "python",
   "pygments_lexer": "ipython3",
   "version": "3.10.5"
  },
  "toc": {
   "nav_menu": {},
   "number_sections": true,
   "sideBar": true,
   "skip_h1_title": false,
   "toc_cell": false,
   "toc_position": {},
   "toc_section_display": "block",
   "toc_window_display": false
  }
 },
 "nbformat": 4,
 "nbformat_minor": 4
}
